{
 "cells": [
  {
   "cell_type": "code",
   "execution_count": 21,
   "metadata": {},
   "outputs": [],
   "source": [
    "from rdflib.namespace import RDF, FOAF\n",
    "from rdflib import URIRef, BNode, Literal\n",
    "from rdflib import Graph\n",
    "from rdflib import Namespace\n",
    "g = Graph()\n"
   ]
  },
  {
   "cell_type": "code",
   "execution_count": 22,
   "metadata": {},
   "outputs": [
    {
     "data": {
      "text/plain": [
       "<Graph identifier=N8080f10899b84c0a9357b50c1b33a01d (<class 'rdflib.graph.Graph'>)>"
      ]
     },
     "execution_count": 22,
     "metadata": {},
     "output_type": "execute_result"
    }
   ],
   "source": [
    "g"
   ]
  },
  {
   "cell_type": "code",
   "execution_count": 23,
   "metadata": {},
   "outputs": [
    {
     "name": "stdout",
     "output_type": "stream",
     "text": [
      "b'<?xml version=\"1.0\" encoding=\"UTF-8\"?>\\n<rdf:RDF\\n   xmlns:ns1=\"http://linkedscience.org/teach/\"\\n   xmlns:rdf=\"http://www.w3.org/1999/02/22-rdf-syntax-ns#\"\\n>\\n  <rdf:Description rdf:about=\"http://lud.ufma.br/course/12454326\">\\n    <rdf:type rdf:resource=\"http://linkedscience.org/teach/nsCourse\"/>\\n    <ns1:nscourseTitle>CURSO DE CIENCIAS BIOLOGICAS / ASEI</ns1:nscourseTitle>\\n  </rdf:Description>\\n</rdf:RDF>\\n'\n"
     ]
    }
   ],
   "source": [
    "c1 = URIRef(\"http://lud.ufma.br/course/12454326\")\n",
    "title = Literal('CURSO DE CIENCIAS BIOLOGICAS / ASEI') # passing a string\n",
    "\n",
    "n = Namespace(\"http://linkedscience.org/teach/ns#\")\n",
    "\n",
    "   \n",
    "    \n",
    "g.add( (c1, RDF.type, n.Course) )\n",
    "g.add( (c1, n.courseTitle, title) )\n",
    "\n",
    "output = g.serialize(format='xml')\n",
    "print (output)\n",
    "\n",
    "file = open(\"saida.xml\",\"w\") \n",
    "file.write(output.decode())\n",
    "file.close()\n",
    "\n",
    "\n",
    "    "
   ]
  },
  {
   "cell_type": "code",
   "execution_count": 24,
   "metadata": {},
   "outputs": [
    {
     "name": "stdout",
     "output_type": "stream",
     "text": [
      "(rdflib.term.URIRef('http://lud.ufma.br/course/12454326'),\n",
      " rdflib.term.URIRef('http://www.w3.org/1999/02/22-rdf-syntax-ns#type'),\n",
      " rdflib.term.URIRef('http://linkedscience.org/teach/nsCourse'))\n",
      "(rdflib.term.URIRef('http://lud.ufma.br/course/12454326'),\n",
      " rdflib.term.URIRef('http://linkedscience.org/teach/nscourseTitle'),\n",
      " rdflib.term.Literal('CURSO DE CIENCIAS BIOLOGICAS / ASEI'))\n"
     ]
    }
   ],
   "source": [
    "import pprint\n",
    "for stmt in g:\n",
    "    pprint.pprint(stmt)"
   ]
  },
  {
   "cell_type": "code",
   "execution_count": null,
   "metadata": {},
   "outputs": [],
   "source": []
  }
 ],
 "metadata": {
  "kernelspec": {
   "display_name": "Python 3",
   "language": "python",
   "name": "python3"
  },
  "language_info": {
   "codemirror_mode": {
    "name": "ipython",
    "version": 3
   },
   "file_extension": ".py",
   "mimetype": "text/x-python",
   "name": "python",
   "nbconvert_exporter": "python",
   "pygments_lexer": "ipython3",
   "version": "3.7.2"
  }
 },
 "nbformat": 4,
 "nbformat_minor": 2
}
