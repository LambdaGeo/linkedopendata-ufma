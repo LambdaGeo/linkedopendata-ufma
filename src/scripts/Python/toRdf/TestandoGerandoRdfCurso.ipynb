{
 "cells": [
  {
   "cell_type": "code",
   "execution_count": 26,
   "metadata": {},
   "outputs": [],
   "source": [
    "from rdflib.namespace import RDF, FOAF\n",
    "from rdflib import URIRef, BNode, Literal\n",
    "from rdflib import Graph\n",
    "from rdflib import Namespace\n"
   ]
  },
  {
   "cell_type": "code",
   "execution_count": 28,
   "metadata": {},
   "outputs": [
    {
     "name": "stdout",
     "output_type": "stream",
     "text": [
      "b'<?xml version=\"1.0\" encoding=\"UTF-8\"?>\\n<rdf:RDF\\n   xmlns:rdf=\"http://www.w3.org/1999/02/22-rdf-syntax-ns#\"\\n   xmlns:teach=\"http://linkedscience.org/teach/ns#\"\\n>\\n  <rdf:Description rdf:about=\"http://lud.ufma.br/course/12454326\">\\n    <teach:courseTitle>CURSO DE CIENCIAS BIOLOGICAS / ASEI</teach:courseTitle>\\n    <rdf:type rdf:resource=\"http://linkedscience.org/teach/ns#Course\"/>\\n  </rdf:Description>\\n</rdf:RDF>\\n'\n"
     ]
    }
   ],
   "source": [
    "\n",
    "\n",
    "g = Graph()\n",
    "\n",
    "\n",
    "\n",
    "c1 = URIRef(\"http://lud.ufma.br/course/12454326\")\n",
    "title = Literal('CURSO DE CIENCIAS BIOLOGICAS / ASEI') # passing a string\n",
    "\n",
    "n = Namespace(\"http://linkedscience.org/teach/ns#\")\n",
    "g.bind(\"teach\", n)\n",
    "   \n",
    "    \n",
    "g.add( (c1, RDF.type, n.Course) )\n",
    "g.add( (c1, n.courseTitle, title) )\n",
    "\n",
    "output = g.serialize(format='xml')\n",
    "print (output)\n",
    "\n",
    "file = open(\"saida.xml\",\"w\") \n",
    "file.write(output.decode())\n",
    "file.close()\n",
    "\n",
    "\n",
    "    "
   ]
  },
  {
   "cell_type": "code",
   "execution_count": 24,
   "metadata": {},
   "outputs": [
    {
     "name": "stdout",
     "output_type": "stream",
     "text": [
      "(rdflib.term.URIRef('http://lud.ufma.br/course/12454326'),\n",
      " rdflib.term.URIRef('http://www.w3.org/1999/02/22-rdf-syntax-ns#type'),\n",
      " rdflib.term.URIRef('http://linkedscience.org/teach/nsCourse'))\n",
      "(rdflib.term.URIRef('http://lud.ufma.br/course/12454326'),\n",
      " rdflib.term.URIRef('http://linkedscience.org/teach/nscourseTitle'),\n",
      " rdflib.term.Literal('CURSO DE CIENCIAS BIOLOGICAS / ASEI'))\n"
     ]
    }
   ],
   "source": [
    "import pprint\n",
    "for stmt in g:\n",
    "    pprint.pprint(stmt)"
   ]
  },
  {
   "cell_type": "code",
   "execution_count": null,
   "metadata": {},
   "outputs": [],
   "source": []
  }
 ],
 "metadata": {
  "kernelspec": {
   "display_name": "Python 3",
   "language": "python",
   "name": "python3"
  },
  "language_info": {
   "codemirror_mode": {
    "name": "ipython",
    "version": 3
   },
   "file_extension": ".py",
   "mimetype": "text/x-python",
   "name": "python",
   "nbconvert_exporter": "python",
   "pygments_lexer": "ipython3",
   "version": "3.7.2"
  }
 },
 "nbformat": 4,
 "nbformat_minor": 2
}
